{
 "cells": [
  {
   "cell_type": "markdown",
   "metadata": {},
   "source": [
    "# Using the NDBC Buoy Data Scraper\n",
    "The Buoy class is used to get realtime and historical data from [NDBC Buoys](https://www.ndbc.noaa.gov/)  \n",
    "[Realtime Buoy Data](#Realtime-data-from-the-Neah-Bay-buoy)  \n",
    "[Historical Buoy Data](#Historical-data)"
   ]
  },
  {
   "cell_type": "code",
   "execution_count": 1,
   "metadata": {},
   "outputs": [],
   "source": [
    "from buoyscraper import Buoy"
   ]
  },
  {
   "cell_type": "markdown",
   "metadata": {},
   "source": [
    "## Realtime data from the Neah Bay buoy"
   ]
  },
  {
   "cell_type": "code",
   "execution_count": 2,
   "metadata": {},
   "outputs": [],
   "source": [
    "neah_bay_id = 46087\n",
    "neah = Buoy(neah_bay_id)\n",
    "#print(neah)  # Prints metadata"
   ]
  },
  {
   "cell_type": "code",
   "execution_count": 3,
   "metadata": {},
   "outputs": [
    {
     "name": "stdout",
     "output_type": "stream",
     "text": [
      "Possible realtime dtypes are: ['stdmet', 'adcp', 'cwind', 'supl', 'spec', 'data_spec', 'swdir', 'swdir2', 'swr1', 'swr2', 'ocean', 'srad']\n"
     ]
    }
   ],
   "source": [
    "neah.get_realtime(\"not a valid dtype\")"
   ]
  },
  {
   "cell_type": "code",
   "execution_count": 4,
   "metadata": {},
   "outputs": [
    {
     "data": {
      "text/html": [
       "<div>\n",
       "<style scoped>\n",
       "    .dataframe tbody tr th:only-of-type {\n",
       "        vertical-align: middle;\n",
       "    }\n",
       "\n",
       "    .dataframe tbody tr th {\n",
       "        vertical-align: top;\n",
       "    }\n",
       "\n",
       "    .dataframe thead th {\n",
       "        text-align: right;\n",
       "    }\n",
       "</style>\n",
       "<table border=\"1\" class=\"dataframe\">\n",
       "  <thead>\n",
       "    <tr style=\"text-align: right;\">\n",
       "      <th>columns</th>\n",
       "      <th>WDIR</th>\n",
       "      <th>WSPD</th>\n",
       "      <th>GST</th>\n",
       "      <th>WVHT</th>\n",
       "      <th>DPD</th>\n",
       "      <th>APD</th>\n",
       "      <th>MWD</th>\n",
       "      <th>PRES</th>\n",
       "      <th>ATMP</th>\n",
       "      <th>WTMP</th>\n",
       "      <th>DEWP</th>\n",
       "      <th>VIS</th>\n",
       "      <th>PTDY</th>\n",
       "      <th>TIDE</th>\n",
       "    </tr>\n",
       "    <tr>\n",
       "      <th>datetime</th>\n",
       "      <th></th>\n",
       "      <th></th>\n",
       "      <th></th>\n",
       "      <th></th>\n",
       "      <th></th>\n",
       "      <th></th>\n",
       "      <th></th>\n",
       "      <th></th>\n",
       "      <th></th>\n",
       "      <th></th>\n",
       "      <th></th>\n",
       "      <th></th>\n",
       "      <th></th>\n",
       "      <th></th>\n",
       "    </tr>\n",
       "  </thead>\n",
       "  <tbody>\n",
       "    <tr>\n",
       "      <td>2019-10-27 16:20:00+00:00</td>\n",
       "      <td>80.0</td>\n",
       "      <td>4.0</td>\n",
       "      <td>5.0</td>\n",
       "      <td>1.8</td>\n",
       "      <td>11</td>\n",
       "      <td>8.0</td>\n",
       "      <td>293</td>\n",
       "      <td>1032.9</td>\n",
       "      <td>8.4</td>\n",
       "      <td>10.0</td>\n",
       "      <td>3.9</td>\n",
       "      <td>NaN</td>\n",
       "      <td>NaN</td>\n",
       "      <td>NaN</td>\n",
       "    </tr>\n",
       "    <tr>\n",
       "      <td>2019-10-27 15:50:00+00:00</td>\n",
       "      <td>60.0</td>\n",
       "      <td>4.0</td>\n",
       "      <td>6.0</td>\n",
       "      <td>1.9</td>\n",
       "      <td>11</td>\n",
       "      <td>8.1</td>\n",
       "      <td>300</td>\n",
       "      <td>1032.6</td>\n",
       "      <td>8.7</td>\n",
       "      <td>10.0</td>\n",
       "      <td>2.5</td>\n",
       "      <td>NaN</td>\n",
       "      <td>0.0</td>\n",
       "      <td>NaN</td>\n",
       "    </tr>\n",
       "    <tr>\n",
       "      <td>2019-10-27 15:20:00+00:00</td>\n",
       "      <td>60.0</td>\n",
       "      <td>4.0</td>\n",
       "      <td>5.0</td>\n",
       "      <td>2.0</td>\n",
       "      <td>11</td>\n",
       "      <td>8.8</td>\n",
       "      <td>291</td>\n",
       "      <td>1032.7</td>\n",
       "      <td>8.8</td>\n",
       "      <td>10.0</td>\n",
       "      <td>3.3</td>\n",
       "      <td>NaN</td>\n",
       "      <td>NaN</td>\n",
       "      <td>NaN</td>\n",
       "    </tr>\n",
       "  </tbody>\n",
       "</table>\n",
       "</div>"
      ],
      "text/plain": [
       "columns                    WDIR  WSPD  GST  WVHT  DPD  APD  MWD    PRES  ATMP  \\\n",
       "datetime                                                                        \n",
       "2019-10-27 16:20:00+00:00  80.0   4.0  5.0   1.8   11  8.0  293  1032.9   8.4   \n",
       "2019-10-27 15:50:00+00:00  60.0   4.0  6.0   1.9   11  8.1  300  1032.6   8.7   \n",
       "2019-10-27 15:20:00+00:00  60.0   4.0  5.0   2.0   11  8.8  291  1032.7   8.8   \n",
       "\n",
       "columns                    WTMP  DEWP  VIS  PTDY  TIDE  \n",
       "datetime                                                \n",
       "2019-10-27 16:20:00+00:00  10.0   3.9  NaN   NaN   NaN  \n",
       "2019-10-27 15:50:00+00:00  10.0   2.5  NaN   0.0   NaN  \n",
       "2019-10-27 15:20:00+00:00  10.0   3.3  NaN   NaN   NaN  "
      ]
     },
     "execution_count": 4,
     "metadata": {},
     "output_type": "execute_result"
    }
   ],
   "source": [
    "# Get stdmet data\n",
    "neah_stdmet = neah.get_realtime(\"stdmet\")\n",
    "neah_stdmet.head(3)"
   ]
  },
  {
   "cell_type": "code",
   "execution_count": 5,
   "metadata": {},
   "outputs": [
    {
     "name": "stdout",
     "output_type": "stream",
     "text": [
      "Help on method stdmet in module buoyscraper.realtime_scraper:\n",
      "\n",
      "stdmet(url) method of buoyscraper.realtime_scraper.RealtimeScraper instance\n",
      "    Standard Meteorological Data\n",
      "    dtype:   \"stdmet\"\n",
      "    index:   datetime64[ns, UTC]\n",
      "    columns: WDIR  WSPD  GST  WVHT  DPD  APD  MWD  PRES  ATMP  WTMP  DEWP  VIS  PTDY  TIDE\n",
      "    units:   degT  m/s   m/s   m    sec  sec  degT  hPa  degC  degC  degC  nmi  hPa    ft\n",
      "\n"
     ]
    }
   ],
   "source": [
    "# Check the units for realtime stdmet\n",
    "help(neah.realtime.stdmet)"
   ]
  },
  {
   "cell_type": "code",
   "execution_count": 6,
   "metadata": {},
   "outputs": [
    {
     "data": {
      "text/plain": [
       "Timedelta('45 days 16:00:00')"
      ]
     },
     "execution_count": 6,
     "metadata": {},
     "output_type": "execute_result"
    }
   ],
   "source": [
    "# Realtime data has 45 days of data\n",
    "max(neah_stdmet.index) - min(neah_stdmet.index)"
   ]
  },
  {
   "cell_type": "markdown",
   "metadata": {},
   "source": [
    "**Save and load realtime data**  \n",
    "Note: If a pickle for a ```dtype``` and ```buoy_id``` already exists in the default (or specified) data directory, *it will be updated with any new data!*"
   ]
  },
  {
   "cell_type": "code",
   "execution_count": 9,
   "metadata": {},
   "outputs": [
    {
     "name": "stdout",
     "output_type": "stream",
     "text": [
      "Added 0 new items to buoydata/46087/realtime/stdmet.pkl\n",
      "Added 0 new items to buoydata/46087/realtime/data_spec.pkl\n"
     ]
    }
   ],
   "source": [
    "neah.save_realtime([\"stdmet\", \"data_spec\"])\n",
    "#neah.save_realtime()  # Save all available data types"
   ]
  },
  {
   "cell_type": "code",
   "execution_count": 10,
   "metadata": {},
   "outputs": [],
   "source": [
    "neah_stdmet = neah.load_realtime(\"stdmet\")"
   ]
  },
  {
   "cell_type": "markdown",
   "metadata": {},
   "source": [
    "**Plotting the realtime wave height and dominant period for the Neah Bay buoy**"
   ]
  },
  {
   "cell_type": "code",
   "execution_count": 11,
   "metadata": {},
   "outputs": [
    {
     "name": "stderr",
     "output_type": "stream",
     "text": [
      "/Users/jonahgolden/anaconda3/envs/deep-learning/lib/python3.7/site-packages/pandas/plotting/_matplotlib/converter.py:103: FutureWarning: Using an implicitly registered datetime converter for a matplotlib plotting method. The converter was registered by pandas on import. Future versions of pandas will require you to explicitly register matplotlib converters.\n",
      "\n",
      "To register the converters:\n",
      "\t>>> from pandas.plotting import register_matplotlib_converters\n",
      "\t>>> register_matplotlib_converters()\n",
      "  warnings.warn(msg, FutureWarning)\n"
     ]
    },
    {
     "data": {
      "image/png": "[encoded data removed]",
      "text/plain": [
       "<Figure size 864x288 with 2 Axes>"
      ]
     },
     "metadata": {
      "needs_background": "light"
     },
     "output_type": "display_data"
    }
   ],
   "source": [
    "import matplotlib.pyplot as plt\n",
    "%matplotlib inline\n",
    "\n",
    "fig, ax1 = plt.subplots(figsize=(12, 4))\n",
    "ax2 = ax1.twinx()\n",
    "ax1.plot(neah_stdmet['WVHT'], 'b-', linewidth=1, label='wave height')\n",
    "ax1.set_ylabel('height (m)', color='b', size=16)\n",
    "ax1.legend(loc=\"upper left\")\n",
    "ax2.plot(neah_stdmet['DPD'], 'g-', linewidth=1, label='Dominant Period')\n",
    "ax2.set_ylabel('period (sec)', color='g', size=16)\n",
    "ax2.legend()\n",
    "plt.show()"
   ]
  },
  {
   "cell_type": "markdown",
   "metadata": {},
   "source": [
    "## Historical data\n",
    "Accessing historical data mostly works the same as realtime data.  The main difference is the data that are available."
   ]
  },
  {
   "cell_type": "code",
   "execution_count": 12,
   "metadata": {},
   "outputs": [],
   "source": [
    "from buoyscraper import Buoy"
   ]
  },
  {
   "cell_type": "code",
   "execution_count": 13,
   "metadata": {},
   "outputs": [
    {
     "name": "stdout",
     "output_type": "stream",
     "text": [
      "Possible historical dtypes are: ['stdmet', 'swden', 'swdir', 'swdir2', 'swr1', 'swr2', 'adcp', 'cwind', 'ocean', 'dart']\n"
     ]
    }
   ],
   "source": [
    "neah_bay_id = 46087\n",
    "neah = Buoy(neah_bay_id)\n",
    "neah.get_historical(\"not a valid dtype\")"
   ]
  },
  {
   "cell_type": "code",
   "execution_count": 14,
   "metadata": {},
   "outputs": [
    {
     "name": "stdout",
     "output_type": "stream",
     "text": [
      "122361\n"
     ]
    },
    {
     "data": {
      "text/html": [
       "<div>\n",
       "<style scoped>\n",
       "    .dataframe tbody tr th:only-of-type {\n",
       "        vertical-align: middle;\n",
       "    }\n",
       "\n",
       "    .dataframe tbody tr th {\n",
       "        vertical-align: top;\n",
       "    }\n",
       "\n",
       "    .dataframe thead th {\n",
       "        text-align: right;\n",
       "    }\n",
       "</style>\n",
       "<table border=\"1\" class=\"dataframe\">\n",
       "  <thead>\n",
       "    <tr style=\"text-align: right;\">\n",
       "      <th>frequencies</th>\n",
       "      <th>.0200</th>\n",
       "      <th>.0325</th>\n",
       "      <th>.0375</th>\n",
       "      <th>.0425</th>\n",
       "      <th>.0475</th>\n",
       "      <th>.0525</th>\n",
       "      <th>.0575</th>\n",
       "      <th>.0625</th>\n",
       "      <th>.0675</th>\n",
       "      <th>.0725</th>\n",
       "      <th>...</th>\n",
       "      <th>.3300</th>\n",
       "      <th>.3400</th>\n",
       "      <th>.3500</th>\n",
       "      <th>.3650</th>\n",
       "      <th>.3850</th>\n",
       "      <th>.4050</th>\n",
       "      <th>.4250</th>\n",
       "      <th>.4450</th>\n",
       "      <th>.4650</th>\n",
       "      <th>.4850</th>\n",
       "    </tr>\n",
       "    <tr>\n",
       "      <th>datetime</th>\n",
       "      <th></th>\n",
       "      <th></th>\n",
       "      <th></th>\n",
       "      <th></th>\n",
       "      <th></th>\n",
       "      <th></th>\n",
       "      <th></th>\n",
       "      <th></th>\n",
       "      <th></th>\n",
       "      <th></th>\n",
       "      <th></th>\n",
       "      <th></th>\n",
       "      <th></th>\n",
       "      <th></th>\n",
       "      <th></th>\n",
       "      <th></th>\n",
       "      <th></th>\n",
       "      <th></th>\n",
       "      <th></th>\n",
       "      <th></th>\n",
       "      <th></th>\n",
       "    </tr>\n",
       "  </thead>\n",
       "  <tbody>\n",
       "    <tr>\n",
       "      <td>2007-01-01 01:00:00+00:00</td>\n",
       "      <td>0.0</td>\n",
       "      <td>0.0</td>\n",
       "      <td>0.0</td>\n",
       "      <td>0.0</td>\n",
       "      <td>0.0</td>\n",
       "      <td>0.0</td>\n",
       "      <td>0.0</td>\n",
       "      <td>0.00</td>\n",
       "      <td>0.00</td>\n",
       "      <td>2.71</td>\n",
       "      <td>...</td>\n",
       "      <td>0.01</td>\n",
       "      <td>0.02</td>\n",
       "      <td>0.03</td>\n",
       "      <td>0.04</td>\n",
       "      <td>0.07</td>\n",
       "      <td>0.08</td>\n",
       "      <td>0.04</td>\n",
       "      <td>0.09</td>\n",
       "      <td>0.04</td>\n",
       "      <td>0.02</td>\n",
       "    </tr>\n",
       "    <tr>\n",
       "      <td>2007-01-01 02:00:00+00:00</td>\n",
       "      <td>0.0</td>\n",
       "      <td>0.0</td>\n",
       "      <td>0.0</td>\n",
       "      <td>0.0</td>\n",
       "      <td>0.0</td>\n",
       "      <td>0.0</td>\n",
       "      <td>0.0</td>\n",
       "      <td>0.03</td>\n",
       "      <td>0.58</td>\n",
       "      <td>3.14</td>\n",
       "      <td>...</td>\n",
       "      <td>0.02</td>\n",
       "      <td>0.05</td>\n",
       "      <td>0.03</td>\n",
       "      <td>0.07</td>\n",
       "      <td>0.12</td>\n",
       "      <td>0.14</td>\n",
       "      <td>0.05</td>\n",
       "      <td>0.04</td>\n",
       "      <td>0.03</td>\n",
       "      <td>0.01</td>\n",
       "    </tr>\n",
       "    <tr>\n",
       "      <td>2007-01-01 03:00:00+00:00</td>\n",
       "      <td>0.0</td>\n",
       "      <td>0.0</td>\n",
       "      <td>0.0</td>\n",
       "      <td>0.0</td>\n",
       "      <td>0.0</td>\n",
       "      <td>0.0</td>\n",
       "      <td>0.0</td>\n",
       "      <td>0.00</td>\n",
       "      <td>0.00</td>\n",
       "      <td>1.19</td>\n",
       "      <td>...</td>\n",
       "      <td>0.03</td>\n",
       "      <td>0.04</td>\n",
       "      <td>0.07</td>\n",
       "      <td>0.07</td>\n",
       "      <td>0.09</td>\n",
       "      <td>0.07</td>\n",
       "      <td>0.05</td>\n",
       "      <td>0.04</td>\n",
       "      <td>0.03</td>\n",
       "      <td>0.03</td>\n",
       "    </tr>\n",
       "  </tbody>\n",
       "</table>\n",
       "<p>3 rows × 47 columns</p>\n",
       "</div>"
      ],
      "text/plain": [
       "frequencies                .0200  .0325  .0375  .0425  .0475  .0525  .0575  \\\n",
       "datetime                                                                     \n",
       "2007-01-01 01:00:00+00:00    0.0    0.0    0.0    0.0    0.0    0.0    0.0   \n",
       "2007-01-01 02:00:00+00:00    0.0    0.0    0.0    0.0    0.0    0.0    0.0   \n",
       "2007-01-01 03:00:00+00:00    0.0    0.0    0.0    0.0    0.0    0.0    0.0   \n",
       "\n",
       "frequencies                .0625  .0675  .0725  ...  .3300  .3400  .3500  \\\n",
       "datetime                                        ...                        \n",
       "2007-01-01 01:00:00+00:00   0.00   0.00   2.71  ...   0.01   0.02   0.03   \n",
       "2007-01-01 02:00:00+00:00   0.03   0.58   3.14  ...   0.02   0.05   0.03   \n",
       "2007-01-01 03:00:00+00:00   0.00   0.00   1.19  ...   0.03   0.04   0.07   \n",
       "\n",
       "frequencies                .3650  .3850  .4050  .4250  .4450  .4650  .4850  \n",
       "datetime                                                                    \n",
       "2007-01-01 01:00:00+00:00   0.04   0.07   0.08   0.04   0.09   0.04   0.02  \n",
       "2007-01-01 02:00:00+00:00   0.07   0.12   0.14   0.05   0.04   0.03   0.01  \n",
       "2007-01-01 03:00:00+00:00   0.07   0.09   0.07   0.05   0.04   0.03   0.03  \n",
       "\n",
       "[3 rows x 47 columns]"
      ]
     },
     "execution_count": 14,
     "metadata": {},
     "output_type": "execute_result"
    }
   ],
   "source": [
    "# Get swell density data\n",
    "neah_swden = neah.get_historical(\"swden\")\n",
    "print(len(neah_swden))\n",
    "neah_swden.head(3)"
   ]
  },
  {
   "cell_type": "code",
   "execution_count": 15,
   "metadata": {},
   "outputs": [
    {
     "name": "stdout",
     "output_type": "stream",
     "text": [
      "Help on method swden in module buoyscraper.historical_scraper:\n",
      "\n",
      "swden(url) method of buoyscraper.historical_scraper.HistoricalScraper instance\n",
      "    Spectral wave density\n",
      "    dtype:   \"swden\"\n",
      "    index:   datetime64[ns, UTC]\n",
      "    columns: .0200  .0325  .0375  ...  .4450  .4650  .4850 (frequencies in Hz)\n",
      "    units:   Spectral Wave Density/Energy in m^2/Hz for each frequency bin\n",
      "\n"
     ]
    }
   ],
   "source": [
    "# Check the units\n",
    "help(neah.historical.swden)"
   ]
  },
  {
   "cell_type": "code",
   "execution_count": 16,
   "metadata": {},
   "outputs": [],
   "source": [
    "# Another buoy\n",
    "new_dungeness_id = 46088\n",
    "dunge = Buoy(new_dungeness_id)\n",
    "dunge_swden = dunge.get_historical(\"swden\")"
   ]
  },
  {
   "cell_type": "markdown",
   "metadata": {},
   "source": [
    "**Plotting the historical spectral density means at the New Dungeness and Neah Bay buoys**  \n",
    "* Check the Neah Bay axis. Spectral densities in Neah Bay are way higher than New Dungeness. The Neah Bay buoy is on the West coast of Washington, while the New Dungeness buoy is in The Straight of Juan de Fuca.\n",
    "* Frequencies are lower at Neah, because it gets more ocean swell, while New Dungeness gets more wind swell.\n",
    "* Dungeness has a noticeable bump right around the 0.1 Hz frequenciy, the same frequencies that are most prevelant at Neah. Some ocean swell makes it in The Straight of Juan de Fuca to Dungeness."
   ]
  },
  {
   "cell_type": "code",
   "execution_count": 17,
   "metadata": {},
   "outputs": [
    {
     "data": {
      "image/png": "[encoded data removed]",
      "text/plain": [
       "<Figure size 432x288 with 2 Axes>"
      ]
     },
     "metadata": {
      "needs_background": "light"
     },
     "output_type": "display_data"
    }
   ],
   "source": [
    "import matplotlib.pyplot as plt\n",
    "%matplotlib inline\n",
    "\n",
    "frequencies = [float(hz) for hz in list(dunge_swden)]\n",
    "neah_spectral_means = neah_swden.sum(axis=0)/len(neah_swden)\n",
    "dunge_spectral_means = dunge_swden.sum(axis=0)/len(dunge_swden)\n",
    "\n",
    "fig, ax1 = plt.subplots()\n",
    "ax2 = ax1.twinx()\n",
    "ax1.plot(frequencies, neah_spectral_means, 'g-')\n",
    "ax2.plot(frequencies, dunge_spectral_means, 'r-')\n",
    "ax1.set_ylabel('Neah Bay', color='g')\n",
    "ax2.set_ylabel('New Dunge', color='r')\n",
    "fig.suptitle(\"Spectral Density $(m^2/Hz)$ Means\")\n",
    "ax1.set_xlabel('Frequency (Hz)')\n",
    "plt.show()"
   ]
  },
  {
   "cell_type": "code",
   "execution_count": null,
   "metadata": {},
   "outputs": [],
   "source": []
  }
 ],
 "metadata": {
  "kernelspec": {
   "display_name": "Python 3",
   "language": "python",
   "name": "python3"
  },
  "language_info": {
   "codemirror_mode": {
    "name": "ipython",
    "version": 3
   },
   "file_extension": ".py",
   "mimetype": "text/x-python",
   "name": "python",
   "nbconvert_exporter": "python",
   "pygments_lexer": "ipython3",
   "version": "3.7.4"
  }
 },
 "nbformat": 4,
 "nbformat_minor": 2
}
