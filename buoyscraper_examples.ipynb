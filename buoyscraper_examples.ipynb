{
 "cells": [
  {
   "cell_type": "markdown",
   "metadata": {},
   "source": [
    "# Using the NDBC Buoy Data Scraper\n",
    "[Realtime Buoy Data](#Realtime-Buoy-Data)  \n",
    "[Historical Buoy Data](#Historical-Buoy-Data)"
   ]
  },
  {
   "cell_type": "markdown",
   "metadata": {},
   "source": [
    "## Realtime Buoy Data\n",
    "I will use the NDBC buoy at Neah Bay (https://www.ndbc.noaa.gov/station_page.php?station=46087)  \n",
    "**A map of all stations** can be found at https://www.ndbc.noaa.gov/ "
   ]
  },
  {
   "cell_type": "code",
   "execution_count": 1,
   "metadata": {},
   "outputs": [],
   "source": [
    "from buoyscraper import RealtimeScraper"
   ]
  },
  {
   "cell_type": "markdown",
   "metadata": {},
   "source": [
    "### Creat RealtimeScraper Object with buoy id  \n",
    "**Printing a scraper object provides some info** about the buoy, obtained in ```BuoyDataScraper._set_buoy_info()```"
   ]
  },
  {
   "cell_type": "code",
   "execution_count": 2,
   "metadata": {},
   "outputs": [
    {
     "name": "stdout",
     "output_type": "stream",
     "text": [
      "Station ID: 46087\n",
      "Station Name: Neah Bay - 6 NM North of Cape Flattery, WA     (Traffic Separation Lighted Buoy)\n",
      "Location: 48.493 N, 24.726 W\n",
      "Time Zone: P\n",
      "Owner: NDBC, US\n",
      "Ttype: 3-meter discus buoy\n",
      "Notes: nan\n"
     ]
    }
   ],
   "source": [
    "neah_bay_id = \"46087\"\n",
    "neah_buoy = RealtimeScraper(neah_bay_id)\n",
    "print(neah_buoy)"
   ]
  },
  {
   "cell_type": "markdown",
   "metadata": {},
   "source": [
    "### Getting Buoy Data"
   ]
  },
  {
   "cell_type": "markdown",
   "metadata": {},
   "source": [
    "**1. Get buoy data in pandas dataframe**"
   ]
  },
  {
   "cell_type": "code",
   "execution_count": 3,
   "metadata": {},
   "outputs": [
    {
     "name": "stdout",
     "output_type": "stream",
     "text": [
      "['stdmet', 'adcp', 'cwind', 'spec', 'data_spec', 'swdir', 'swdir2', 'swr1', 'swr2']\n"
     ]
    }
   ],
   "source": [
    "# See what data types are available for this buoy\n",
    "print(neah_buoy.get_available_dtypes())"
   ]
  },
  {
   "cell_type": "code",
   "execution_count": 4,
   "metadata": {},
   "outputs": [
    {
     "data": {
      "text/html": [
       "<div>\n",
       "<style scoped>\n",
       "    .dataframe tbody tr th:only-of-type {\n",
       "        vertical-align: middle;\n",
       "    }\n",
       "\n",
       "    .dataframe tbody tr th {\n",
       "        vertical-align: top;\n",
       "    }\n",
       "\n",
       "    .dataframe thead th {\n",
       "        text-align: right;\n",
       "    }\n",
       "</style>\n",
       "<table border=\"1\" class=\"dataframe\">\n",
       "  <thead>\n",
       "    <tr style=\"text-align: right;\">\n",
       "      <th>columns</th>\n",
       "      <th>WDIR</th>\n",
       "      <th>WSPD</th>\n",
       "      <th>GST</th>\n",
       "      <th>WVHT</th>\n",
       "      <th>DPD</th>\n",
       "      <th>APD</th>\n",
       "      <th>MWD</th>\n",
       "      <th>PRES</th>\n",
       "      <th>ATMP</th>\n",
       "      <th>WTMP</th>\n",
       "      <th>DEWP</th>\n",
       "      <th>VIS</th>\n",
       "      <th>PTDY</th>\n",
       "      <th>TIDE</th>\n",
       "    </tr>\n",
       "    <tr>\n",
       "      <th>datetime</th>\n",
       "      <th></th>\n",
       "      <th></th>\n",
       "      <th></th>\n",
       "      <th></th>\n",
       "      <th></th>\n",
       "      <th></th>\n",
       "      <th></th>\n",
       "      <th></th>\n",
       "      <th></th>\n",
       "      <th></th>\n",
       "      <th></th>\n",
       "      <th></th>\n",
       "      <th></th>\n",
       "      <th></th>\n",
       "    </tr>\n",
       "  </thead>\n",
       "  <tbody>\n",
       "    <tr>\n",
       "      <td>2019-10-24 00:20:00+00:00</td>\n",
       "      <td>90.0</td>\n",
       "      <td>6.0</td>\n",
       "      <td>7.0</td>\n",
       "      <td>1.3</td>\n",
       "      <td>10</td>\n",
       "      <td>6.9</td>\n",
       "      <td>272</td>\n",
       "      <td>1031.5</td>\n",
       "      <td>10.6</td>\n",
       "      <td>11.5</td>\n",
       "      <td>8.9</td>\n",
       "      <td>NaN</td>\n",
       "      <td>NaN</td>\n",
       "      <td>NaN</td>\n",
       "    </tr>\n",
       "    <tr>\n",
       "      <td>2019-10-23 23:50:00+00:00</td>\n",
       "      <td>90.0</td>\n",
       "      <td>6.0</td>\n",
       "      <td>7.0</td>\n",
       "      <td>1.4</td>\n",
       "      <td>11</td>\n",
       "      <td>7.2</td>\n",
       "      <td>259</td>\n",
       "      <td>1031.5</td>\n",
       "      <td>10.7</td>\n",
       "      <td>11.4</td>\n",
       "      <td>9.0</td>\n",
       "      <td>NaN</td>\n",
       "      <td>-1.1</td>\n",
       "      <td>NaN</td>\n",
       "    </tr>\n",
       "    <tr>\n",
       "      <td>2019-10-23 23:20:00+00:00</td>\n",
       "      <td>80.0</td>\n",
       "      <td>5.0</td>\n",
       "      <td>6.0</td>\n",
       "      <td>1.4</td>\n",
       "      <td>10</td>\n",
       "      <td>7.4</td>\n",
       "      <td>277</td>\n",
       "      <td>1032.0</td>\n",
       "      <td>10.7</td>\n",
       "      <td>11.3</td>\n",
       "      <td>8.3</td>\n",
       "      <td>NaN</td>\n",
       "      <td>NaN</td>\n",
       "      <td>NaN</td>\n",
       "    </tr>\n",
       "  </tbody>\n",
       "</table>\n",
       "</div>"
      ],
      "text/plain": [
       "columns                    WDIR  WSPD  GST  WVHT  DPD  APD  MWD    PRES  ATMP  \\\n",
       "datetime                                                                        \n",
       "2019-10-24 00:20:00+00:00  90.0   6.0  7.0   1.3   10  6.9  272  1031.5  10.6   \n",
       "2019-10-23 23:50:00+00:00  90.0   6.0  7.0   1.4   11  7.2  259  1031.5  10.7   \n",
       "2019-10-23 23:20:00+00:00  80.0   5.0  6.0   1.4   10  7.4  277  1032.0  10.7   \n",
       "\n",
       "columns                    WTMP  DEWP  VIS  PTDY  TIDE  \n",
       "datetime                                                \n",
       "2019-10-24 00:20:00+00:00  11.5   8.9  NaN   NaN   NaN  \n",
       "2019-10-23 23:50:00+00:00  11.4   9.0  NaN  -1.1   NaN  \n",
       "2019-10-23 23:20:00+00:00  11.3   8.3  NaN   NaN   NaN  "
      ]
     },
     "execution_count": 4,
     "metadata": {},
     "output_type": "execute_result"
    }
   ],
   "source": [
    "# Standard Meteorological Data\n",
    "neah_stdmet = neah_buoy.scrape_dtype('stdmet')\n",
    "neah_stdmet.head(3)"
   ]
  },
  {
   "cell_type": "code",
   "execution_count": 5,
   "metadata": {},
   "outputs": [
    {
     "data": {
      "text/plain": [
       "Timedelta('45 days 00:00:00')"
      ]
     },
     "execution_count": 5,
     "metadata": {},
     "output_type": "execute_result"
    }
   ],
   "source": [
    "# We can see there is only 45 days of realtime data available\n",
    "max(neah_stdmet.index) - min(neah_stdmet.index)"
   ]
  },
  {
   "cell_type": "code",
   "execution_count": 6,
   "metadata": {},
   "outputs": [
    {
     "name": "stdout",
     "output_type": "stream",
     "text": [
      "Help on function stdmet in module buoyscraper.realtime_scraper:\n",
      "\n",
      "stdmet(self, url)\n",
      "    Standard Meteorological Data\n",
      "    dtype:   \"stdmet\"\n",
      "    index:   datetime64[ns, UTC]\n",
      "    columns: WDIR  WSPD  GST  WVHT  DPD  APD  MWD  PRES  ATMP  WTMP  DEWP  VIS  PTDY  TIDE\n",
      "    units:   degT  m/s   m/s   m    sec  sec  degT  hPa  degC  degC  degC  nmi  hPa    ft\n",
      "\n"
     ]
    }
   ],
   "source": [
    "# Check the units for this data type\n",
    "help(RealtimeScraper.stdmet)"
   ]
  },
  {
   "cell_type": "markdown",
   "metadata": {},
   "source": [
    "**2. Save one data type at default file path pickle and load it**   \n",
    "Note: If a pickle for the specified ```dtype``` and ```buoy_id``` already exists at the default (or specified) path, *it will be updated with any new data!*"
   ]
  },
  {
   "cell_type": "code",
   "execution_count": 7,
   "metadata": {},
   "outputs": [
    {
     "name": "stdout",
     "output_type": "stream",
     "text": [
      "Added 1 new items to data/46087/realtime/stdmet.pkl\n"
     ]
    }
   ],
   "source": [
    "neah_buoy.scrape_dtype(\"stdmet\", save=True)"
   ]
  },
  {
   "cell_type": "code",
   "execution_count": 8,
   "metadata": {},
   "outputs": [],
   "source": [
    "# Load data with file path as default\n",
    "import buoyscraper as bs\n",
    "\n",
    "neah_stdmet = bs.load_realtime(neah_bay_id, \"stdmet\")"
   ]
  },
  {
   "cell_type": "markdown",
   "metadata": {},
   "source": [
    "**3. Saving all data types at default file path**  \n",
    "We can then load any of them as pandas dataframes"
   ]
  },
  {
   "cell_type": "code",
   "execution_count": 9,
   "metadata": {},
   "outputs": [
    {
     "name": "stdout",
     "output_type": "stream",
     "text": [
      "Added 0 new items to data/46087/realtime/stdmet.pkl\n",
      "Added 1 new items to data/46087/realtime/adcp.pkl\n",
      "Added 3 new items to data/46087/realtime/cwind.pkl\n",
      "Added 0 new items to data/46087/realtime/spec.pkl\n",
      "Added 0 new items to data/46087/realtime/data_spec.pkl\n",
      "Added 0 new items to data/46087/realtime/swdir.pkl\n",
      "Added 0 new items to data/46087/realtime/swdir2.pkl\n",
      "Added 0 new items to data/46087/realtime/swr1.pkl\n",
      "Added 0 new items to data/46087/realtime/swr2.pkl\n"
     ]
    }
   ],
   "source": [
    "neah_buoy.scrape_all_dtypes()"
   ]
  },
  {
   "cell_type": "code",
   "execution_count": 10,
   "metadata": {},
   "outputs": [],
   "source": [
    "neah_stdmet = bs.load_realtime(neah_bay_id, \"stdmet\")\n",
    "neah_spec = bs.load_realtime(neah_bay_id, \"spec\")\n",
    "neah_swr1 = bs.load_realtime(neah_bay_id, \"swr1\")"
   ]
  },
  {
   "cell_type": "markdown",
   "metadata": {},
   "source": [
    "### Some simple plotting"
   ]
  },
  {
   "cell_type": "code",
   "execution_count": 11,
   "metadata": {},
   "outputs": [
    {
     "data": {
      "image/png": "[encoded data removed]",
      "text/plain": [
       "<Figure size 864x288 with 2 Axes>"
      ]
     },
     "metadata": {
      "needs_background": "light"
     },
     "output_type": "display_data"
    }
   ],
   "source": [
    "import matplotlib.pyplot as plt\n",
    "%matplotlib inline\n",
    "from pandas.plotting import register_matplotlib_converters # To get rid of warning\n",
    "register_matplotlib_converters()\n",
    "\n",
    "fig, ax1 = plt.subplots(figsize=(12, 4))\n",
    "ax2 = ax1.twinx()\n",
    "\n",
    "ax1.plot(neah_stdmet['WVHT'], 'b-', linewidth=1, label='wave height')\n",
    "ax1.set_ylabel('height (m)', color='b', size=16)\n",
    "ax1.legend(loc=\"upper left\")\n",
    "ax2.plot(neah_stdmet['DPD'], 'g-', linewidth=1, label='Dominant Period')\n",
    "ax2.set_ylabel('period (sec)', color='g', size=16)\n",
    "ax2.legend()\n",
    "plt.show()"
   ]
  },
  {
   "cell_type": "markdown",
   "metadata": {},
   "source": [
    "## Historical Buoy Data\n",
    "Accessing historical data mostly works the same as realtime data.  The main difference is the data that are available."
   ]
  },
  {
   "cell_type": "code",
   "execution_count": 12,
   "metadata": {},
   "outputs": [],
   "source": [
    "from buoyscraper import HistoricalScraper"
   ]
  },
  {
   "cell_type": "markdown",
   "metadata": {},
   "source": [
    "### Creat RealtimeScraper Object with buoy id  "
   ]
  },
  {
   "cell_type": "code",
   "execution_count": 13,
   "metadata": {},
   "outputs": [],
   "source": [
    "neah_bay_id = \"46087\"\n",
    "neah_buoy_hist = HistoricalScraper(neah_bay_id)\n",
    "#print(neah_buoy)"
   ]
  },
  {
   "cell_type": "markdown",
   "metadata": {},
   "source": [
    "### Getting Buoy Data\n",
    "* ```scrape_dtype(dtype)``` gets all available historical data, including months this year.\n",
    "* ```scrape_year(dtype, year)``` gets data from that year\n",
    "* ```scrape_month(dtype, month)``` gets data from a month this year"
   ]
  },
  {
   "cell_type": "code",
   "execution_count": 14,
   "metadata": {},
   "outputs": [],
   "source": [
    "neah_stdmet = neah_buoy_hist.scrape_dtype(\"stdmet\")"
   ]
  },
  {
   "cell_type": "code",
   "execution_count": 15,
   "metadata": {},
   "outputs": [
    {
     "data": {
      "text/html": [
       "<div>\n",
       "<style scoped>\n",
       "    .dataframe tbody tr th:only-of-type {\n",
       "        vertical-align: middle;\n",
       "    }\n",
       "\n",
       "    .dataframe tbody tr th {\n",
       "        vertical-align: top;\n",
       "    }\n",
       "\n",
       "    .dataframe thead th {\n",
       "        text-align: right;\n",
       "    }\n",
       "</style>\n",
       "<table border=\"1\" class=\"dataframe\">\n",
       "  <thead>\n",
       "    <tr style=\"text-align: right;\">\n",
       "      <th>columns</th>\n",
       "      <th>WDIR</th>\n",
       "      <th>WSPD</th>\n",
       "      <th>GST</th>\n",
       "      <th>WVHT</th>\n",
       "      <th>DPD</th>\n",
       "      <th>APD</th>\n",
       "      <th>MWD</th>\n",
       "      <th>PRES</th>\n",
       "      <th>ATMP</th>\n",
       "      <th>WTMP</th>\n",
       "      <th>DEWP</th>\n",
       "      <th>VIS</th>\n",
       "      <th>TIDE</th>\n",
       "    </tr>\n",
       "    <tr>\n",
       "      <th>datetime</th>\n",
       "      <th></th>\n",
       "      <th></th>\n",
       "      <th></th>\n",
       "      <th></th>\n",
       "      <th></th>\n",
       "      <th></th>\n",
       "      <th></th>\n",
       "      <th></th>\n",
       "      <th></th>\n",
       "      <th></th>\n",
       "      <th></th>\n",
       "      <th></th>\n",
       "      <th></th>\n",
       "    </tr>\n",
       "  </thead>\n",
       "  <tbody>\n",
       "    <tr>\n",
       "      <td>2007-01-01 00:00:00+00:00</td>\n",
       "      <td>110.0</td>\n",
       "      <td>9.2</td>\n",
       "      <td>11.0</td>\n",
       "      <td>2.19</td>\n",
       "      <td>12.12</td>\n",
       "      <td>8.36</td>\n",
       "      <td>249.0</td>\n",
       "      <td>1024.2</td>\n",
       "      <td>6.9</td>\n",
       "      <td>8.3</td>\n",
       "      <td>3.9</td>\n",
       "      <td>NaN</td>\n",
       "      <td>NaN</td>\n",
       "    </tr>\n",
       "    <tr>\n",
       "      <td>2007-01-01 00:30:00+00:00</td>\n",
       "      <td>109.0</td>\n",
       "      <td>8.0</td>\n",
       "      <td>9.8</td>\n",
       "      <td>NaN</td>\n",
       "      <td>NaN</td>\n",
       "      <td>NaN</td>\n",
       "      <td>NaN</td>\n",
       "      <td>1024.5</td>\n",
       "      <td>7.0</td>\n",
       "      <td>8.3</td>\n",
       "      <td>4.3</td>\n",
       "      <td>NaN</td>\n",
       "      <td>NaN</td>\n",
       "    </tr>\n",
       "    <tr>\n",
       "      <td>2007-01-01 01:00:00+00:00</td>\n",
       "      <td>110.0</td>\n",
       "      <td>8.5</td>\n",
       "      <td>10.5</td>\n",
       "      <td>2.00</td>\n",
       "      <td>12.12</td>\n",
       "      <td>7.88</td>\n",
       "      <td>238.0</td>\n",
       "      <td>1024.4</td>\n",
       "      <td>7.1</td>\n",
       "      <td>8.3</td>\n",
       "      <td>4.2</td>\n",
       "      <td>NaN</td>\n",
       "      <td>NaN</td>\n",
       "    </tr>\n",
       "    <tr>\n",
       "      <td>2007-01-01 01:30:00+00:00</td>\n",
       "      <td>114.0</td>\n",
       "      <td>8.6</td>\n",
       "      <td>10.4</td>\n",
       "      <td>NaN</td>\n",
       "      <td>NaN</td>\n",
       "      <td>NaN</td>\n",
       "      <td>NaN</td>\n",
       "      <td>1024.6</td>\n",
       "      <td>7.2</td>\n",
       "      <td>8.3</td>\n",
       "      <td>4.2</td>\n",
       "      <td>NaN</td>\n",
       "      <td>NaN</td>\n",
       "    </tr>\n",
       "    <tr>\n",
       "      <td>2007-01-01 02:00:00+00:00</td>\n",
       "      <td>112.0</td>\n",
       "      <td>8.7</td>\n",
       "      <td>10.6</td>\n",
       "      <td>2.32</td>\n",
       "      <td>12.12</td>\n",
       "      <td>8.12</td>\n",
       "      <td>233.0</td>\n",
       "      <td>1024.5</td>\n",
       "      <td>7.2</td>\n",
       "      <td>8.3</td>\n",
       "      <td>4.4</td>\n",
       "      <td>NaN</td>\n",
       "      <td>NaN</td>\n",
       "    </tr>\n",
       "    <tr>\n",
       "      <td>...</td>\n",
       "      <td>...</td>\n",
       "      <td>...</td>\n",
       "      <td>...</td>\n",
       "      <td>...</td>\n",
       "      <td>...</td>\n",
       "      <td>...</td>\n",
       "      <td>...</td>\n",
       "      <td>...</td>\n",
       "      <td>...</td>\n",
       "      <td>...</td>\n",
       "      <td>...</td>\n",
       "      <td>...</td>\n",
       "      <td>...</td>\n",
       "    </tr>\n",
       "    <tr>\n",
       "      <td>2018-12-31 21:20:00+00:00</td>\n",
       "      <td>106.0</td>\n",
       "      <td>5.1</td>\n",
       "      <td>6.4</td>\n",
       "      <td>1.64</td>\n",
       "      <td>12.90</td>\n",
       "      <td>8.46</td>\n",
       "      <td>272.0</td>\n",
       "      <td>1031.7</td>\n",
       "      <td>6.7</td>\n",
       "      <td>8.7</td>\n",
       "      <td>-1.4</td>\n",
       "      <td>NaN</td>\n",
       "      <td>NaN</td>\n",
       "    </tr>\n",
       "    <tr>\n",
       "      <td>2018-12-31 21:50:00+00:00</td>\n",
       "      <td>105.0</td>\n",
       "      <td>4.8</td>\n",
       "      <td>6.2</td>\n",
       "      <td>1.62</td>\n",
       "      <td>12.12</td>\n",
       "      <td>8.45</td>\n",
       "      <td>282.0</td>\n",
       "      <td>1031.8</td>\n",
       "      <td>6.8</td>\n",
       "      <td>8.8</td>\n",
       "      <td>-2.1</td>\n",
       "      <td>NaN</td>\n",
       "      <td>NaN</td>\n",
       "    </tr>\n",
       "    <tr>\n",
       "      <td>2018-12-31 22:20:00+00:00</td>\n",
       "      <td>107.0</td>\n",
       "      <td>4.8</td>\n",
       "      <td>6.0</td>\n",
       "      <td>1.68</td>\n",
       "      <td>12.12</td>\n",
       "      <td>8.54</td>\n",
       "      <td>271.0</td>\n",
       "      <td>1032.3</td>\n",
       "      <td>6.7</td>\n",
       "      <td>8.8</td>\n",
       "      <td>-1.8</td>\n",
       "      <td>NaN</td>\n",
       "      <td>NaN</td>\n",
       "    </tr>\n",
       "    <tr>\n",
       "      <td>2018-12-31 22:50:00+00:00</td>\n",
       "      <td>100.0</td>\n",
       "      <td>5.0</td>\n",
       "      <td>6.4</td>\n",
       "      <td>1.71</td>\n",
       "      <td>12.12</td>\n",
       "      <td>8.50</td>\n",
       "      <td>267.0</td>\n",
       "      <td>1032.1</td>\n",
       "      <td>6.6</td>\n",
       "      <td>8.8</td>\n",
       "      <td>-2.0</td>\n",
       "      <td>NaN</td>\n",
       "      <td>NaN</td>\n",
       "    </tr>\n",
       "    <tr>\n",
       "      <td>2018-12-31 23:20:00+00:00</td>\n",
       "      <td>101.0</td>\n",
       "      <td>5.6</td>\n",
       "      <td>7.2</td>\n",
       "      <td>1.70</td>\n",
       "      <td>12.12</td>\n",
       "      <td>8.45</td>\n",
       "      <td>265.0</td>\n",
       "      <td>1031.8</td>\n",
       "      <td>6.7</td>\n",
       "      <td>8.7</td>\n",
       "      <td>-1.0</td>\n",
       "      <td>NaN</td>\n",
       "      <td>NaN</td>\n",
       "    </tr>\n",
       "  </tbody>\n",
       "</table>\n",
       "<p>172071 rows × 13 columns</p>\n",
       "</div>"
      ],
      "text/plain": [
       "columns                     WDIR  WSPD   GST  WVHT    DPD   APD    MWD  \\\n",
       "datetime                                                                 \n",
       "2007-01-01 00:00:00+00:00  110.0   9.2  11.0  2.19  12.12  8.36  249.0   \n",
       "2007-01-01 00:30:00+00:00  109.0   8.0   9.8   NaN    NaN   NaN    NaN   \n",
       "2007-01-01 01:00:00+00:00  110.0   8.5  10.5  2.00  12.12  7.88  238.0   \n",
       "2007-01-01 01:30:00+00:00  114.0   8.6  10.4   NaN    NaN   NaN    NaN   \n",
       "2007-01-01 02:00:00+00:00  112.0   8.7  10.6  2.32  12.12  8.12  233.0   \n",
       "...                          ...   ...   ...   ...    ...   ...    ...   \n",
       "2018-12-31 21:20:00+00:00  106.0   5.1   6.4  1.64  12.90  8.46  272.0   \n",
       "2018-12-31 21:50:00+00:00  105.0   4.8   6.2  1.62  12.12  8.45  282.0   \n",
       "2018-12-31 22:20:00+00:00  107.0   4.8   6.0  1.68  12.12  8.54  271.0   \n",
       "2018-12-31 22:50:00+00:00  100.0   5.0   6.4  1.71  12.12  8.50  267.0   \n",
       "2018-12-31 23:20:00+00:00  101.0   5.6   7.2  1.70  12.12  8.45  265.0   \n",
       "\n",
       "columns                      PRES  ATMP  WTMP  DEWP  VIS  TIDE  \n",
       "datetime                                                        \n",
       "2007-01-01 00:00:00+00:00  1024.2   6.9   8.3   3.9  NaN   NaN  \n",
       "2007-01-01 00:30:00+00:00  1024.5   7.0   8.3   4.3  NaN   NaN  \n",
       "2007-01-01 01:00:00+00:00  1024.4   7.1   8.3   4.2  NaN   NaN  \n",
       "2007-01-01 01:30:00+00:00  1024.6   7.2   8.3   4.2  NaN   NaN  \n",
       "2007-01-01 02:00:00+00:00  1024.5   7.2   8.3   4.4  NaN   NaN  \n",
       "...                           ...   ...   ...   ...  ...   ...  \n",
       "2018-12-31 21:20:00+00:00  1031.7   6.7   8.7  -1.4  NaN   NaN  \n",
       "2018-12-31 21:50:00+00:00  1031.8   6.8   8.8  -2.1  NaN   NaN  \n",
       "2018-12-31 22:20:00+00:00  1032.3   6.7   8.8  -1.8  NaN   NaN  \n",
       "2018-12-31 22:50:00+00:00  1032.1   6.6   8.8  -2.0  NaN   NaN  \n",
       "2018-12-31 23:20:00+00:00  1031.8   6.7   8.7  -1.0  NaN   NaN  \n",
       "\n",
       "[172071 rows x 13 columns]"
      ]
     },
     "execution_count": 15,
     "metadata": {},
     "output_type": "execute_result"
    }
   ],
   "source": [
    "neah_stdmet"
   ]
  },
  {
   "cell_type": "code",
   "execution_count": 16,
   "metadata": {},
   "outputs": [
    {
     "name": "stdout",
     "output_type": "stream",
     "text": [
      "Help on function stdmet in module buoyscraper.historical_scraper:\n",
      "\n",
      "stdmet(self, url)\n",
      "    Standard Meteorological Data\n",
      "    dtype:   \"stdmet\"\n",
      "    index:   datetime64[ns, UTC]\n",
      "    columns: WDIR  WSPD  GST  WVHT  DPD  APD  MWD  PRES  ATMP  WTMP  DEWP  VIS  PTDY  TIDE\n",
      "    units:   degT  m/s   m/s   m    sec  sec  degT  hPa  degC  degC  degC  nmi  hPa    ft\n",
      "\n"
     ]
    }
   ],
   "source": [
    "# Check the units for this data type\n",
    "help(HistoricalScraper.stdmet)"
   ]
  },
  {
   "cell_type": "markdown",
   "metadata": {},
   "source": [
    "**2. Save one data type at default file path pickle and load it**   \n",
    "Note: If a pickle for the specified ```dtype``` and ```buoy_id``` already exists at the default (or specified) path, *it will be updated with any new data!*"
   ]
  },
  {
   "cell_type": "code",
   "execution_count": 17,
   "metadata": {},
   "outputs": [
    {
     "name": "stdout",
     "output_type": "stream",
     "text": [
      "Saved data to data/46087/historical/stdmet.pkl\n"
     ]
    }
   ],
   "source": [
    "neah_buoy_hist.scrape_dtype(\"stdmet\", save=True)"
   ]
  },
  {
   "cell_type": "code",
   "execution_count": 18,
   "metadata": {},
   "outputs": [],
   "source": [
    "# Load data with file path as default\n",
    "import buoyscraper as bs\n",
    "\n",
    "neah_stdmet = bs.load_historical(neah_bay_id, \"stdmet\")"
   ]
  },
  {
   "cell_type": "markdown",
   "metadata": {},
   "source": [
    "**3. Saving all data types at default file path**  \n",
    "We can then load any of them as pandas dataframes"
   ]
  },
  {
   "cell_type": "code",
   "execution_count": 19,
   "metadata": {},
   "outputs": [
    {
     "name": "stdout",
     "output_type": "stream",
     "text": [
      "Saved data to data/46087/historical/stdmet.pkl\n",
      "Saved data to data/46087/historical/swden.pkl\n",
      "Saved data to data/46087/historical/swdir.pkl\n",
      "Saved data to data/46087/historical/swdir2.pkl\n",
      "Saved data to data/46087/historical/swr2.pkl\n",
      "Saved data to data/46087/historical/adcp.pkl\n",
      "Saved data to data/46087/historical/cwind.pkl\n"
     ]
    }
   ],
   "source": [
    "neah_buoy_hist.scrape_all_dtypes()"
   ]
  },
  {
   "cell_type": "code",
   "execution_count": 21,
   "metadata": {},
   "outputs": [
    {
     "name": "stdout",
     "output_type": "stream",
     "text": [
      "Saved data to data/46088/historical/stdmet.pkl\n",
      "Saved data to data/46088/historical/swden.pkl\n",
      "Saved data to data/46088/historical/swdir.pkl\n",
      "Saved data to data/46088/historical/swdir2.pkl\n",
      "Saved data to data/46088/historical/swr2.pkl\n",
      "Saved data to data/46088/historical/adcp.pkl\n",
      "Saved data to data/46088/historical/cwind.pkl\n"
     ]
    }
   ],
   "source": [
    "# Saving all data types from another buoy\n",
    "new_dunge_id = \"46088\"\n",
    "dunge_buoy_hist = HistoricalScraper(new_dunge_id)\n",
    "dunge_buoy_hist.scrape_all_dtypes()"
   ]
  },
  {
   "cell_type": "code",
   "execution_count": 22,
   "metadata": {},
   "outputs": [],
   "source": [
    "# Loading saved data from both buoys\n",
    "neah_swden = bs.load_historical(neah_bay_id, \"swden\")\n",
    "dunge_swden = bs.load_historical(new_dunge_id, \"swden\")"
   ]
  },
  {
   "cell_type": "markdown",
   "metadata": {},
   "source": [
    "A plot showing the difference between spectral density means at the New Dungeness Station and the Neah Bay Station:"
   ]
  },
  {
   "cell_type": "code",
   "execution_count": 27,
   "metadata": {},
   "outputs": [
    {
     "data": {
      "image/png": "[encoded data removed]",
      "text/plain": [
       "<Figure size 432x288 with 2 Axes>"
      ]
     },
     "metadata": {
      "needs_background": "light"
     },
     "output_type": "display_data"
    }
   ],
   "source": [
    "frequencies = [float(hz) for hz in list(dunge_swden)]\n",
    "neah_spectral_means = neah_swden.sum(axis=0)/len(neah_swden)\n",
    "dunge_spectral_means = dunge_swden.sum(axis=0)/len(dunge_swden)\n",
    "\n",
    "fig, ax1 = plt.subplots()\n",
    "ax2 = ax1.twinx()\n",
    "ax1.plot(frequencies, neah_spectral_means, 'g-')\n",
    "ax2.plot(frequencies, dunge_spectral_means, 'r-')\n",
    "ax1.set_ylabel('Neah Bay', color='g')\n",
    "ax2.set_ylabel('New Dunge', color='r')\n",
    "fig.suptitle(\"Spectral Density $(m^2/Hz)$ Means\")\n",
    "ax1.set_xlabel('Frequency (Hz)')\n",
    "plt.show()"
   ]
  },
  {
   "cell_type": "code",
   "execution_count": null,
   "metadata": {},
   "outputs": [],
   "source": []
  }
 ],
 "metadata": {
  "kernelspec": {
   "display_name": "Python 3",
   "language": "python",
   "name": "python3"
  },
  "language_info": {
   "codemirror_mode": {
    "name": "ipython",
    "version": 3
   },
   "file_extension": ".py",
   "mimetype": "text/x-python",
   "name": "python",
   "nbconvert_exporter": "python",
   "pygments_lexer": "ipython3",
   "version": "3.7.4"
  }
 },
 "nbformat": 4,
 "nbformat_minor": 2
}
